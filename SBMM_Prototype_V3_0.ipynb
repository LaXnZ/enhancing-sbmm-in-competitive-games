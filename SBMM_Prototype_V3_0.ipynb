{
  "nbformat": 4,
  "nbformat_minor": 0,
  "metadata": {
    "colab": {
      "provenance": [],
      "authorship_tag": "ABX9TyOS66YmhK/pP1eA9m9ZQqy9",
      "include_colab_link": true
    },
    "kernelspec": {
      "name": "python3",
      "display_name": "Python 3"
    },
    "language_info": {
      "name": "python"
    }
  },
  "cells": [
    {
      "cell_type": "markdown",
      "metadata": {
        "id": "view-in-github",
        "colab_type": "text"
      },
      "source": [
        "<a href=\"https://colab.research.google.com/github/LaXnZ/enhancing-sbmm-in-competitive-games/blob/prototype-v3/SBMM_Prototype_V3_0.ipynb\" target=\"_parent\"><img src=\"https://colab.research.google.com/assets/colab-badge.svg\" alt=\"Open In Colab\"/></a>"
      ]
    },
    {
      "cell_type": "code",
      "execution_count": null,
      "metadata": {
        "colab": {
          "base_uri": "https://localhost:8080/"
        },
        "id": "ouW8x8T7Hndn",
        "outputId": "77ea20eb-50b0-4f53-dfef-211cd2885176",
        "collapsed": true
      },
      "outputs": [
        {
          "output_type": "stream",
          "name": "stdout",
          "text": [
            "Drive already mounted at /content/drive; to attempt to forcibly remount, call drive.mount(\"/content/drive\", force_remount=True).\n"
          ]
        }
      ],
      "source": [
        "!pip install gradio seaborn matplotlib --quiet\n",
        "from google.colab import drive\n",
        "drive.mount('/content/drive')"
      ]
    },
    {
      "cell_type": "markdown",
      "source": [
        "## Load Model and Data"
      ],
      "metadata": {
        "id": "svMDv4ENKri7"
      }
    },
    {
      "cell_type": "code",
      "source": [
        "import gradio as gr\n",
        "import pandas as pd\n",
        "import numpy as np\n",
        "import joblib\n",
        "import random\n",
        "from sklearn.preprocessing import StandardScaler\n",
        "import matplotlib.pyplot as plt\n",
        "import seaborn as sns\n",
        "import io\n",
        "from PIL import Image\n",
        "\n",
        "# Load model and data\n",
        "model_path = '/content/drive/MyDrive/Final Year Project - APIIT/Models/logistic_regression_model.pkl'\n",
        "data_path = '/content/drive/MyDrive/Final Year Project - APIIT/Datasets/testing_data.csv'\n",
        "\n",
        "model = joblib.load(model_path)\n",
        "data = pd.read_csv(data_path)\n",
        "data['Player'] = ['Player' + str(i) for i in range(1, len(data) + 1)]\n",
        "X = data.drop(columns=['Target', 'Player'])\n",
        "data['SkillRating'] = model.predict_proba(X)[:, 1]\n",
        "\n",
        "# Assign rank and points to next\n",
        "def assign_rank(score):\n",
        "    if score < 0.4:\n",
        "        return \"Bronze\", round((0.4 - score) * 100)\n",
        "    elif score < 0.6:\n",
        "        return \"Silver\", round((0.6 - score) * 100)\n",
        "    elif score < 0.75:\n",
        "        return \"Gold\", round((0.75 - score) * 100)\n",
        "    elif score < 0.90:\n",
        "        return \"Platinum\", round((0.90 - score) * 100)\n",
        "    elif score < 0.95:\n",
        "        return \"Diamond\", round((0.95 - score) * 100)\n",
        "    elif score < 0.98:\n",
        "        return \"Master\", round((0.98 - score) * 100)\n",
        "    else:\n",
        "        return \"Grandmaster\", round((1.00 - score) * 100)\n",
        "\n",
        "data[['Rank', 'ToNextRank']] = data['SkillRating'].apply(lambda s: pd.Series(assign_rank(s)))\n",
        "data['ToNextRank'] = data['ToNextRank'].astype(str) + ' pts'\n",
        "\n",
        "# Generate player profile\n",
        "player142_data = data[data['Player'] == 'Player142'].iloc[0]\n",
        "player_profile = f\"\"\"\n",
        "<div style='background-color:#2d3436; padding:20px; border-radius:10px; color:white; font-family:monospace'>\n",
        "    <h2>Welcome, Player142</h2>\n",
        "    <p><strong>Skill Rating:</strong> {player142_data['SkillRating']:.2f}</p>\n",
        "    <p><strong>Rank:</strong> {player142_data['Rank']}</p>\n",
        "    <p><strong>Points to next rank:</strong> {player142_data['ToNextRank']}</p>\n",
        "    <p><strong>Preferred Mode:</strong> 5v5 Competitive</p>\n",
        "    <p><strong>Current Form:</strong> Active</p>\n",
        "</div>\n",
        "\"\"\""
      ],
      "metadata": {
        "colab": {
          "base_uri": "https://localhost:8080/"
        },
        "id": "AJdn90xIKrLP",
        "outputId": "26c4a980-ac70-4857-8326-a18b4aacd558"
      },
      "execution_count": null,
      "outputs": [
        {
          "output_type": "stream",
          "name": "stderr",
          "text": [
            "/usr/local/lib/python3.11/dist-packages/sklearn/utils/validation.py:2732: UserWarning: X has feature names, but LogisticRegression was fitted without feature names\n",
            "  warnings.warn(\n"
          ]
        }
      ]
    },
    {
      "cell_type": "markdown",
      "source": [
        "## Define Simulation Logic"
      ],
      "metadata": {
        "id": "4c_gndW0LHMt"
      }
    },
    {
      "cell_type": "code",
      "source": [
        "def simulate_matchmaking(mode, teammates):\n",
        "    df_sorted = data.sort_values(by='SkillRating', ascending=False).reset_index(drop=True)\n",
        "    player142 = df_sorted[df_sorted['Player'] == \"Player142\"].iloc[0]\n",
        "\n",
        "    def generate_combined_avg_skill_chart(df1, df2):\n",
        "        ranks = [\"Bronze\", \"Silver\", \"Gold\", \"Platinum\", \"Diamond\", \"Master\", \"Grandmaster\"]\n",
        "        avg1 = df1.groupby(\"Rank\")[\"Skill Rating\"].mean().reindex(ranks, fill_value=None)\n",
        "        avg2 = df2.groupby(\"Rank\")[\"Skill Rating\"].mean().reindex(ranks, fill_value=None)\n",
        "        fig, ax = plt.subplots(figsize=(8, 5))\n",
        "        sns.lineplot(x=avg1.index, y=avg1.values, label=\"Team 1\", marker=\"o\", ax=ax)\n",
        "        sns.lineplot(x=avg2.index, y=avg2.values, label=\"Team 2\", marker=\"o\", ax=ax)\n",
        "        ax.set_title(\"Average Skill Rating by Rank (Team 1 vs Team 2)\")\n",
        "        ax.set_ylabel(\"Skill Rating\")\n",
        "        ax.set_ylim(0, 1.0)\n",
        "        plt.xticks(rotation=15)\n",
        "        plt.tight_layout()\n",
        "        buf = io.BytesIO()\n",
        "        fig.savefig(buf, format='png'); buf.seek(0)\n",
        "        plt.close(fig)\n",
        "        return Image.open(buf)\n",
        "\n",
        "    def generate_combined_skill_dist_chart(df1, df2):\n",
        "        fig, ax = plt.subplots(figsize=(8, 5))\n",
        "        sns.kdeplot(df1['Skill Rating'], linestyle=\"--\", linewidth=2, label=\"Team 1\", ax=ax)\n",
        "        sns.kdeplot(df2['Skill Rating'], linestyle=\":\", linewidth=2, label=\"Team 2\", ax=ax)\n",
        "        ax.set_title(\"Skill Rating Distribution Comparison\")\n",
        "        ax.set_xlabel(\"Skill Rating\")\n",
        "        ax.set_ylabel(\"Density\")\n",
        "        ax.legend()\n",
        "        plt.tight_layout()\n",
        "        buf = io.BytesIO()\n",
        "        fig.savefig(buf, format='png'); buf.seek(0)\n",
        "        plt.close(fig)\n",
        "        return Image.open(buf)\n",
        "\n",
        "    # Match logic\n",
        "    if mode == \"Solo Queue\":\n",
        "        solo = [player142['Player'], player142['SkillRating'], player142['Rank'], player142['ToNextRank']]\n",
        "        pool = df_sorted[df_sorted['Player'] != \"Player142\"][['Player', 'SkillRating', 'Rank', 'ToNextRank']].values.tolist()\n",
        "        for _ in range(100):\n",
        "            random.shuffle(pool)\n",
        "            team1 = [solo] + pool[:4]\n",
        "            team2 = pool[4:9]\n",
        "            fair = abs(sum(p[1] for p in team1) - sum(p[1] for p in team2))\n",
        "            prec = round(1 / (1 + fair), 2)\n",
        "            if prec > 0.8:\n",
        "                df1 = pd.DataFrame(team1, columns=[\"Player\", \"Skill Rating\", \"Rank\", \"To Next Rank\"])\n",
        "                df2 = pd.DataFrame(team2, columns=[\"Player\", \"Skill Rating\", \"Rank\", \"To Next Rank\"])\n",
        "                avg_img = generate_combined_avg_skill_chart(df1, df2)\n",
        "                dist_img = generate_combined_skill_dist_chart(df1, df2)\n",
        "                return df1, df2, f\"Precision Score: {prec} (Highly Balanced)\", avg_img, dist_img\n",
        "        return \"No balanced match found\", None, None, None, None\n",
        "\n",
        "    elif mode == \"Fixed Team\":\n",
        "        if not teammates or not (1 <= len(teammates) <= 4):\n",
        "            return \"Select 1 to 4 teammates\", None, None, None, None\n",
        "        team1 = [player142[['Player', 'SkillRating', 'Rank', 'ToNextRank']].tolist()]\n",
        "        for p in teammates:\n",
        "            row = df_sorted[df_sorted['Player'] == p].iloc[0]\n",
        "            team1.append([row['Player'], row['SkillRating'], row['Rank'], row['ToNextRank']])\n",
        "        needed = 5 - len(team1)\n",
        "        ids = [p[0] for p in team1]\n",
        "        pool = df_sorted[~df_sorted['Player'].isin(ids)][['Player', 'SkillRating', 'Rank', 'ToNextRank']].values.tolist()\n",
        "        for _ in range(100):\n",
        "            random.shuffle(pool)\n",
        "            extra = pool[:needed]\n",
        "            team2 = pool[needed:needed+5]\n",
        "            team1_full = team1 + extra\n",
        "            fair = abs(sum(p[1] for p in team1_full) - sum(p[1] for p in team2))\n",
        "            prec = round(1 / (1 + fair), 2)\n",
        "            if prec > 0.8:\n",
        "                df1 = pd.DataFrame(team1_full, columns=[\"Player\", \"Skill Rating\", \"Rank\", \"To Next Rank\"])\n",
        "                df2 = pd.DataFrame(team2, columns=[\"Player\", \"Skill Rating\", \"Rank\", \"To Next Rank\"])\n",
        "                avg_img = generate_combined_avg_skill_chart(df1, df2)\n",
        "                dist_img = generate_combined_skill_dist_chart(df1, df2)\n",
        "                return df1, df2, f\"Precision Score: {prec} (Highly Balanced)\", avg_img, dist_img\n",
        "        return \"No balanced match found\", None, None, None, None"
      ],
      "metadata": {
        "id": "g1FlVBYbLMNQ"
      },
      "execution_count": null,
      "outputs": []
    },
    {
      "cell_type": "markdown",
      "source": [
        "## Launch Gradio UI"
      ],
      "metadata": {
        "id": "UK9HfmqILQC2"
      }
    },
    {
      "cell_type": "code",
      "source": [
        "with gr.Blocks(css=\"\"\"\n",
        ".gradio-container {background-color: #1e1e2e; color: #f1f1f1; font-family: monospace;}\n",
        ".gr-button {background: #74b9ff; color: black; font-weight: bold;}\n",
        "input[type='checkbox']:checked {accent-color: #55efc4;}\n",
        "\"\"\") as demo:\n",
        "\n",
        "    with gr.Group(visible=True) as landing:\n",
        "        gr.Markdown(\"# SBMM Matchmaking Prototype v3\")\n",
        "        gr.HTML(player_profile)\n",
        "        start_btn = gr.Button(\"Start Simulation\")\n",
        "\n",
        "    with gr.Group(visible=False) as match_section:\n",
        "        gr.Markdown(\"## Matchmaking Settings\")\n",
        "        gr.Markdown(\"*Choose a mode and simulate fair team formation.*\")\n",
        "\n",
        "        mode = gr.Radio([\"Solo Queue\", \"Fixed Team\"], label=\"Matchmaking Mode\", value=\"Solo Queue\")\n",
        "        teammates = gr.CheckboxGroup(player_list, label=\"Select up to 4 Teammates\", visible=False)\n",
        "        mode.change(lambda m: gr.update(visible=(m == \"Fixed Team\")), inputs=mode, outputs=teammates)\n",
        "\n",
        "        match_btn = gr.Button(\"Start Match\")\n",
        "        team1_out = gr.Dataframe(label=\"Team 1\")\n",
        "        team2_out = gr.Dataframe(label=\"Team 2\")\n",
        "        balance = gr.Text(label=\"Match Fairness\")\n",
        "\n",
        "        def start():\n",
        "            return gr.update(visible=False), gr.update(visible=True)\n",
        "\n",
        "        start_btn.click(fn=start, outputs=[landing, match_section])\n",
        "        match_btn.click(\n",
        "            fn=simulate_matchmaking,\n",
        "            inputs=[mode, teammates],\n",
        "            outputs=[\n",
        "                team1_out, team2_out, balance,\n",
        "                gr.Image(label=\"Average Skill Rating by Rank\"),\n",
        "                gr.Image(label=\"Skill Distribution (Team 1 vs Team 2)\")\n",
        "            ]\n",
        "        )\n",
        "\n",
        "\n",
        "\n",
        "demo.launch()"
      ],
      "metadata": {
        "colab": {
          "base_uri": "https://localhost:8080/",
          "height": 648
        },
        "id": "t9zS3oUuLRyS",
        "outputId": "833b301b-7b24-49a8-ef75-4b5537e70f7e"
      },
      "execution_count": null,
      "outputs": [
        {
          "output_type": "stream",
          "name": "stdout",
          "text": [
            "It looks like you are running Gradio on a hosted a Jupyter notebook. For the Gradio app to work, sharing must be enabled. Automatically setting `share=True` (you can turn this off by setting `share=False` in `launch()` explicitly).\n",
            "\n",
            "Colab notebook detected. To show errors in colab notebook, set debug=True in launch()\n",
            "* Running on public URL: https://4b605af8b7d70841a4.gradio.live\n",
            "\n",
            "This share link expires in 1 week. For free permanent hosting and GPU upgrades, run `gradio deploy` from the terminal in the working directory to deploy to Hugging Face Spaces (https://huggingface.co/spaces)\n"
          ]
        },
        {
          "output_type": "display_data",
          "data": {
            "text/plain": [
              "<IPython.core.display.HTML object>"
            ],
            "text/html": [
              "<div><iframe src=\"https://4b605af8b7d70841a4.gradio.live\" width=\"100%\" height=\"500\" allow=\"autoplay; camera; microphone; clipboard-read; clipboard-write;\" frameborder=\"0\" allowfullscreen></iframe></div>"
            ]
          },
          "metadata": {}
        },
        {
          "output_type": "execute_result",
          "data": {
            "text/plain": []
          },
          "metadata": {},
          "execution_count": 60
        }
      ]
    }
  ]
}